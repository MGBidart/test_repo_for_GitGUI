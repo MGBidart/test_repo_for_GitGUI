{
  "cells": [
    {
      "cell_type": "markdown",
      "metadata": {
        "id": "2roSi1S6mRA8"
      },
      "source": [
        "## Programación - Ciencia de datos - Condicionales - 11/052021"
      ]
    },
    {
      "cell_type": "markdown",
      "metadata": {
        "id": "jl9jjngbmRBC"
      },
      "source": [
        "### Ejercicio 1\n",
        "\n",
        "Escribir un programa que muestre por pantalla la cadena ¡Hola Mundo!."
      ]
    },
    {
      "cell_type": "code",
      "execution_count": null,
      "metadata": {
        "colab": {
          "base_uri": "https://localhost:8080/"
        },
        "id": "ZcLgujwemRBD",
        "outputId": "353bbb65-1e32-4033-9d21-1c8efea2a3f0"
      },
      "outputs": [
        {
          "output_type": "stream",
          "name": "stdout",
          "text": [
            "¡Hola Mundo!\n"
          ]
        }
      ],
      "source": [
        "print('¡Hola Mundo!')"
      ]
    },
    {
      "cell_type": "markdown",
      "metadata": {
        "id": "u6B8Udx3mRBD"
      },
      "source": [
        "### Ejercicio 2\n",
        "\n",
        "Escribir un programa que almacene la cadena ¡Hola Mundo! en una variable y luego muestre por pantalla el contenido de la variable."
      ]
    },
    {
      "cell_type": "code",
      "execution_count": null,
      "metadata": {
        "colab": {
          "base_uri": "https://localhost:8080/"
        },
        "id": "uQsJitETmRBD",
        "outputId": "dacef180-16a0-4914-918e-de58df454383"
      },
      "outputs": [
        {
          "output_type": "stream",
          "name": "stdout",
          "text": [
            "¡Hola Mundo!\n"
          ]
        }
      ],
      "source": [
        "cadena = \"¡Hola Mundo!\"\n",
        "print(cadena)"
      ]
    },
    {
      "cell_type": "markdown",
      "metadata": {
        "id": "Zdw2KIbomRBD"
      },
      "source": [
        "### Ejercicio 3\n",
        "\n",
        "Escribir un programa que pregunte el nombre del usuario en la consola y después de que el usuario lo introduzca muestre por pantalla la cadena ¡Hola <nombre>!, donde <nombre> es el nombre que el usuario haya introducido."
      ]
    },
    {
      "cell_type": "code",
      "execution_count": null,
      "metadata": {
        "colab": {
          "base_uri": "https://localhost:8080/"
        },
        "id": "ti1c64KgmRBD",
        "outputId": "517df1eb-fac5-4856-c32f-32878657a121"
      },
      "outputs": [
        {
          "output_type": "stream",
          "name": "stdout",
          "text": [
            "Ingrese su nombre: Mónica\n",
            "¡Hola!, Mónica\n"
          ]
        }
      ],
      "source": [
        "nombre = input(\"Ingrese su nombre: \")\n",
        "print(F\"¡Hola!, {nombre}\")"
      ]
    },
    {
      "cell_type": "markdown",
      "metadata": {
        "id": "IQGbEifhmRBD"
      },
      "source": [
        "### Ejercicio 4\n",
        "\n",
        "Escribir un programa que muestre por pantalla el resultado de la siguiente operación aritmética: 3 mas 2 dividido 2 por 5, todo al cuadrado.\n",
        "\n",
        "$$ \\big(\\frac{3+2}{2*5}\\big)^2 $$ "
      ]
    },
    {
      "cell_type": "code",
      "execution_count": null,
      "metadata": {
        "colab": {
          "base_uri": "https://localhost:8080/"
        },
        "id": "DbGbLoEGmRBD",
        "outputId": "7b26638c-1496-4b6c-add5-b23a0d4ac8bd"
      },
      "outputs": [
        {
          "output_type": "stream",
          "name": "stdout",
          "text": [
            "0.25\n"
          ]
        }
      ],
      "source": [
        "print( ((3 + 2) / (2 * 5)) ** 2 )"
      ]
    },
    {
      "cell_type": "markdown",
      "metadata": {
        "id": "7Ai3wVWwmRBE"
      },
      "source": [
        "### Ejercicio 5\n",
        "\n",
        "Escribir un programa que pregunte al usuario por el número de horas trabajadas y el coste por hora. Después debe mostrar por pantalla la paga que le corresponde."
      ]
    },
    {
      "cell_type": "code",
      "execution_count": null,
      "metadata": {
        "colab": {
          "base_uri": "https://localhost:8080/"
        },
        "id": "DAc-Acn4mRBE",
        "outputId": "11bf3959-49fc-41de-a5c6-fe75c9d6d26f"
      },
      "outputs": [
        {
          "output_type": "stream",
          "name": "stdout",
          "text": [
            "Ingrese las horas trabajadas: 40\n",
            "Ingrese el valor de cada hora: 355.8979\n",
            "Corresponde abonarle: $ 14235.92\n"
          ]
        }
      ],
      "source": [
        "horas_trabajadas = int(input(\"Ingrese las horas trabajadas: \"))\n",
        "coste_hora = float(input(\"Ingrese el valor de cada hora: \"))\n",
        "print(\"Corresponde abonarle: $\", round(horas_trabajadas * coste_hora, 2) )"
      ]
    },
    {
      "cell_type": "markdown",
      "metadata": {
        "id": "qPDwZJP_mRBE"
      },
      "source": [
        "### Ejercicio 6\n",
        "\n",
        "Escribir un programa que lea un entero positivo, n, introducido por el usuario y después muestre en pantalla la suma de todos los enteros desde 1 hasta n. La suma de los primeros enteros positivos puede ser calculada de la siguiente forma:\n",
        "\n",
        "\n",
        "\n",
        "$$ suma = \\frac{n*(n+1)}{2} $$"
      ]
    },
    {
      "cell_type": "code",
      "execution_count": null,
      "metadata": {
        "id": "6PNTUf7nmRBE",
        "colab": {
          "base_uri": "https://localhost:8080/"
        },
        "outputId": "178e9301-2f11-4c63-d570-fd5c15a3c2fd"
      },
      "outputs": [
        {
          "output_type": "stream",
          "name": "stdout",
          "text": [
            "Ingrese un número entero positivo: 30\n",
            "La suma:  465\n"
          ]
        }
      ],
      "source": [
        "# Opción sin fórmula:\n",
        "entero_positivo = int(input(\"Ingrese un número entero positivo: \"))\n",
        "suma = 0\n",
        "\n",
        "while entero_positivo >= 1:\n",
        "  suma += entero_positivo\n",
        "\n",
        "  entero_positivo -= 1\n",
        "\n",
        "print(\"La suma: \", suma)\n"
      ]
    },
    {
      "cell_type": "code",
      "source": [
        "# Opción usando la Fórmula \n",
        "numero_ingresado = int(input(\"Ingrese un número entero positivo: \"))\n",
        "\n",
        "suma = (numero_ingresado * (numero_ingresado + 1)) / 2\n",
        "\n",
        "print(\"La suma: \", int(suma))\n"
      ],
      "metadata": {
        "colab": {
          "base_uri": "https://localhost:8080/"
        },
        "id": "n5SDfmTPuk5U",
        "outputId": "582d60fd-135a-4e76-eb68-f58757e31c0e"
      },
      "execution_count": null,
      "outputs": [
        {
          "output_type": "stream",
          "name": "stdout",
          "text": [
            "Ingrese un número entero positivo: 30\n",
            "La suma:  465\n"
          ]
        }
      ]
    },
    {
      "cell_type": "markdown",
      "metadata": {
        "id": "eurXG3qZmRBE"
      },
      "source": [
        "### Ejercicio 7\n",
        "\n",
        "Escribir un programa que pida al usuario su peso (en kg) y estatura (en metros), calcule el índice de masa corporal y lo almacene en una variable, y muestre por pantalla la frase \"Tu índice de masa corporal es <imc>\" donde <imc> es el índice de masa corporal calculado redondeado con dos decimales."
      ]
    },
    {
      "cell_type": "code",
      "execution_count": null,
      "metadata": {
        "id": "5tHJUad-mRBE",
        "colab": {
          "base_uri": "https://localhost:8080/"
        },
        "outputId": "9bd53f8c-0e20-4c82-f9b9-87225cf46288"
      },
      "outputs": [
        {
          "output_type": "stream",
          "name": "stdout",
          "text": [
            "Ingrese su peso: 70\n",
            "Ingrese su altura: 1.65\n",
            "Tu índice de masa corporal es: 25.71\n"
          ]
        }
      ],
      "source": [
        "peso = float(input(\"Ingrese su peso: \"))\n",
        "altura = float(input(\"Ingrese su altura: \"))\n",
        "imc = peso / (altura ** 2)\n",
        "imc_round = round(imc, 2)\n",
        "\n",
        "print(F\"Tu índice de masa corporal es: {imc_round}\")\n"
      ]
    }
  ],
  "metadata": {
    "kernelspec": {
      "display_name": "Python 3",
      "language": "python",
      "name": "python3"
    },
    "language_info": {
      "codemirror_mode": {
        "name": "ipython",
        "version": 3
      },
      "file_extension": ".py",
      "mimetype": "text/x-python",
      "name": "python",
      "nbconvert_exporter": "python",
      "pygments_lexer": "ipython3",
      "version": "3.7.6"
    },
    "colab": {
      "name": "copia de prueba.ipynb",
      "provenance": [],
      "collapsed_sections": []
    }
  },
  "nbformat": 4,
  "nbformat_minor": 0
}