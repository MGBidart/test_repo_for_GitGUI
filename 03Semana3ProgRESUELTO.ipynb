{
  "cells": [
    {
      "cell_type": "markdown",
      "metadata": {
        "id": "ONOb9AJX9Uhc"
      },
      "source": [
        "## Ejercicios de Asignación"
      ]
    },
    {
      "cell_type": "markdown",
      "metadata": {
        "id": "ioUmW8vw9Uhc"
      },
      "source": [
        "## Ejercicio 2.1. \n",
        "Escribir un programa que le pregunte al usuario una cantidad de pesos, una tasa de interés y un número de años y muestre como resultado el monto final a obtener. La fórmula a utilizar es:\n",
        "\n",
        "Cn = C * (1 + x/100) ^ n\n",
        "\n",
        "Donde C es el capital inicial, x es la tasa de interés y n es el número de años a calcular."
      ]
    },
    {
      "cell_type": "code",
      "execution_count": null,
      "metadata": {
        "colab": {
          "base_uri": "https://localhost:8080/"
        },
        "id": "PGZ4xHCu9Uhd",
        "outputId": "88a47367-9ab8-4c4f-f5ba-b957b51ae0c5"
      },
      "outputs": [
        {
          "output_type": "stream",
          "name": "stdout",
          "text": [
            "Ingrese el monto en pesos: 2000\n",
            "Ingrese la tasa de interés: 30\n",
            "Ingrese los años: 5\n",
            "1.3\n",
            "2600.0\n",
            "El monto final obtenido es $ 7425.86\n"
          ]
        }
      ],
      "source": [
        "pesos = float(input(\"Ingrese el monto en pesos: \"))\n",
        "tasa = int(input(\"Ingrese la tasa de interés: \"))\n",
        "anios = int(input(\"Ingrese los años: \"))\n",
        "print(1 + tasa / 100)\n",
        "print(pesos * (1 + tasa / 100))\n",
        "monto_final = round(pesos * (1 + tasa / 100) ** anios, 2)\n",
        "\n",
        "print(F\"El monto final obtenido es $ {monto_final}\")"
      ]
    },
    {
      "cell_type": "markdown",
      "metadata": {
        "id": "JuDnzJrj9Uhd"
      },
      "source": [
        "## Ejercicio 2.2. \n",
        "\n",
        "Escribir un programa que convierta un valor dado en grados Fahrenheit a grados Celsius. Recordar que la fórmula para la conversión es:\n",
        "\n",
        "F = 9/5 * C + 32."
      ]
    },
    {
      "cell_type": "code",
      "execution_count": null,
      "metadata": {
        "colab": {
          "base_uri": "https://localhost:8080/"
        },
        "id": "mb7pI7Yn9Uhd",
        "outputId": "2782d50f-8d90-48c3-e057-723c029d607f"
      },
      "outputs": [
        {
          "output_type": "stream",
          "name": "stdout",
          "text": [
            "Ingrese los grados Farenheit: 64.4\n",
            "64.4 grados Farenheit equivalen a 18.0 grados Celsius\n"
          ]
        }
      ],
      "source": [
        "farenheit = float(input(\"Ingrese los grados Farenheit: \"))\n",
        "celsius = round((farenheit - 32) * 5 / 9, 2)\n",
        "\n",
        "print(F\"{farenheit} grados Farenheit equivalen a {celsius} grados Celsius\")"
      ]
    },
    {
      "cell_type": "markdown",
      "metadata": {
        "id": "hVYtpEtp9Uhe"
      },
      "source": [
        "## Ejercicio 2.3.\n",
        "\n",
        "Escribir un programa que pregunte el nombre del usuario en la consola y después de que el usuario lo introduzca muestre por pantalla el nombre en mayúsculas y el número de caracteres que contiene en líneas distintas."
      ]
    },
    {
      "cell_type": "code",
      "execution_count": 1,
      "metadata": {
        "colab": {
          "base_uri": "https://localhost:8080/"
        },
        "id": "EtHsxPXm9Uhe",
        "outputId": "8f1ae6d8-ebe7-48a4-8cbc-3412f38fb7ea"
      },
      "outputs": [
        {
          "output_type": "stream",
          "name": "stdout",
          "text": [
            "Ingrese su nombre: Mónica\n",
            "MÓNICA su nombre tiene  6  caracteres\n"
          ]
        }
      ],
      "source": [
        "nombre = input(\"Ingrese su nombre: \")\n",
        "print(nombre.upper(), \"su nombre tiene \", len(nombre), \" caracteres\")\n"
      ]
    },
    {
      "cell_type": "markdown",
      "metadata": {
        "id": "aidptBSl9Uhf"
      },
      "source": [
        "## Ejercicios con Condicionales simples"
      ]
    },
    {
      "cell_type": "markdown",
      "metadata": {
        "id": "UkXgERmV9Uhf"
      },
      "source": [
        "## Ejercicio 2.4.\n",
        "Escribir un programa que pregunte al usuario su edad y muestre por pantalla si es mayor de edad o no."
      ]
    },
    {
      "cell_type": "code",
      "execution_count": 4,
      "metadata": {
        "id": "9OJQ-nYF9Uhg",
        "colab": {
          "base_uri": "https://localhost:8080/"
        },
        "outputId": "cd81b4f0-bf4b-4f11-d2c8-27c7a09d15bc"
      },
      "outputs": [
        {
          "output_type": "stream",
          "name": "stdout",
          "text": [
            "Ingrese su edad: 33\n",
            "Usted es Mayor de edad!\n"
          ]
        }
      ],
      "source": [
        "edad = int(input(\"Ingrese su edad: \"))\n",
        "\n",
        "if edad >= 18:\n",
        "  print(\"Usted es Mayor de edad!\")\n",
        "else:\n",
        "  print(\"Usted es muy joven aún!\")\n"
      ]
    },
    {
      "cell_type": "markdown",
      "metadata": {
        "id": "iTC_DSaj9Uhg"
      },
      "source": [
        "## Ejercicio 2.5.\n",
        "\n",
        "Para tributar un determinado impuesto se debe ser mayor de 16 años y tener unos ingresos superiores a $1000 mensuales.\n",
        "Escribir un programa que pregunte al usuario su edad y sus ingresos mensuales y muestre por pantalla si el usuario tiene que tributar o no.\n"
      ]
    },
    {
      "cell_type": "code",
      "execution_count": 5,
      "metadata": {
        "id": "a9aGMFgw9Uhg",
        "colab": {
          "base_uri": "https://localhost:8080/"
        },
        "outputId": "a1de57b9-c491-45f1-d838-5c0599926fbd"
      },
      "outputs": [
        {
          "output_type": "stream",
          "name": "stdout",
          "text": [
            "Ingrese su edad: 22\n",
            "Registre sus ingresos mensuales: 563\n",
            "No tributa\n"
          ]
        }
      ],
      "source": [
        "edad = int(input(\"Ingrese su edad: \"))\n",
        "ingresos = float(input(\"Registre sus ingresos mensuales: \"))\n",
        "\n",
        "if edad > 16 and ingresos > 1000:\n",
        "  print(\"Tiene que Tributar.\")\n",
        "else:\n",
        "  print(\"No tributa\")\n",
        "  "
      ]
    },
    {
      "cell_type": "markdown",
      "metadata": {
        "id": "jtGQ49Sk9Uhh"
      },
      "source": [
        "## Ejercicio 2.6.\n",
        "Los alumnos de un curso se han dividido en dos grupos A y B de acuerdo al sexo y el nombre. El grupo A esta formado por las mujeres con un nombre anterior a la M y los hombres con un nombre posterior a la N y el grupo B por el resto.\n",
        "Escribir un programa que pregunte al usuario su nombre y sexo, y muestre por pantalla el grupo que le corresponde.\n"
      ]
    },
    {
      "cell_type": "markdown",
      "metadata": {
        "id": "g7FljUid9Uhh"
      },
      "source": [
        ""
      ]
    },
    {
      "cell_type": "markdown",
      "metadata": {
        "id": "nuWGAbpF9Uhh"
      },
      "source": [
        "## Ejercicios con Bucles repetitivos"
      ]
    },
    {
      "cell_type": "markdown",
      "metadata": {
        "id": "z5A1HC_R9Uhh"
      },
      "source": [
        "## Ejercicio 2.7. \n",
        "\n",
        "Escribir un programa que imprima todos los números pares entre dos números que se le pidan al usuario."
      ]
    },
    {
      "cell_type": "code",
      "execution_count": 11,
      "metadata": {
        "id": "C9igkZIM9Uhh",
        "colab": {
          "base_uri": "https://localhost:8080/"
        },
        "outputId": "6944345f-5f46-4a26-f096-f62456236560"
      },
      "outputs": [
        {
          "output_type": "stream",
          "name": "stdout",
          "text": [
            "Ingrese un número: 8\n",
            "Ingrese otro número: 22\n",
            "8\n",
            "10\n",
            "12\n",
            "14\n",
            "16\n",
            "18\n",
            "20\n",
            "22\n"
          ]
        }
      ],
      "source": [
        "numero_inicio = int(input(\"Ingrese un número: \"))\n",
        "numero_fin = int(input(\"Ingrese otro número: \"))\n",
        "\n",
        "for x in range(numero_inicio, numero_fin + 1):\n",
        "  if x % 2 == 0:\n",
        "    print(x)"
      ]
    },
    {
      "cell_type": "markdown",
      "metadata": {
        "id": "Lw6RhDaw9Uhh"
      },
      "source": [
        "## Ejercicio 2.8.\n",
        "\n",
        "Escribir un programa que pida al usuario un número entero positivo y muestre por pantalla la cuenta desde atrás de ese número hasta cero separados por comas."
      ]
    },
    {
      "cell_type": "code",
      "execution_count": null,
      "metadata": {
        "id": "BazeqBbf9Uhi"
      },
      "outputs": [],
      "source": [
        ""
      ]
    },
    {
      "cell_type": "markdown",
      "metadata": {
        "id": "-linwBPp9Uhi"
      },
      "source": [
        "## Ejercicio 2.9.\n",
        "\n",
        "Escribir un programa que pida al usuario un número entero positivo y muestre por pantalla todos los números impares desde 1 hasta ese número separados por comas.\n",
        "Ayuda: usar el módulo de 2 (%)"
      ]
    },
    {
      "cell_type": "code",
      "execution_count": 22,
      "metadata": {
        "id": "aurCfp_b9Uhi",
        "colab": {
          "base_uri": "https://localhost:8080/"
        },
        "outputId": "3043ca4c-c379-4aed-8673-434564b74c7e"
      },
      "outputs": [
        {
          "output_type": "stream",
          "name": "stdout",
          "text": [
            "Ingrese un número: 33\n",
            "1, 3, 5, 7, 9, 11, 13, 15, 17, 19, 21, 23, 25, 27, 29, 31, 33, "
          ]
        }
      ],
      "source": [
        "numero_limite = int(input(\"Ingrese un número: \"))\n",
        "\n",
        "for x in range(1, numero_limite + 1):\n",
        "  if x % 2 :\n",
        "    print(x, end=\", \")\n",
        "    #print(x, sep=',', end=' ')"
      ]
    },
    {
      "cell_type": "code",
      "source": [
        "# Otra solución\n",
        "numero_limite = int(input(\"Ingrese un número: \"))\n",
        "cadena = []\n",
        "\n",
        "for x in range(1, numero_limite + 1):\n",
        "  if x % 2 :\n",
        "    cadena.append(x)\n",
        "\n",
        "print(cadena, sep=',')\n",
        "\n"
      ],
      "metadata": {
        "colab": {
          "base_uri": "https://localhost:8080/"
        },
        "id": "H2JAR-8ewkH2",
        "outputId": "3694f7e8-548c-4c93-a33f-d6e1bd3424a0"
      },
      "execution_count": 24,
      "outputs": [
        {
          "output_type": "stream",
          "name": "stdout",
          "text": [
            "Ingrese un número: 55\n",
            "[1, 3, 5, 7, 9, 11, 13, 15, 17, 19, 21, 23, 25, 27, 29, 31, 33, 35, 37, 39, 41, 43, 45, 47, 49, 51, 53, 55]\n"
          ]
        }
      ]
    },
    {
      "cell_type": "markdown",
      "metadata": {
        "id": "AC9YGS5_9Uhi"
      },
      "source": [
        "## Ejercicio 2.10.\n",
        "\n",
        "Ciclos definidos\n",
        "\n",
        "    1- Escribir un ciclo definido para imprimir por pantalla todos los números entre 10 y 20.\n",
        "    2- Escribir un ciclo definido que salude por pantalla a sus cinco mejores amigos/as.\n",
        "    3- Escribir un programa que use un ciclo definido con rango numérico, que pregunte los nombres de sus cinco mejores amigos/as, y los salude.\n",
        "    4- Escribir un programa que use un ciclo definido con rango numérico, que pregunte los nombres de sus seis mejores amigos/as, y los salude.\n",
        "    5- Escribir un programa que use un ciclo definido con rango numérico, que averigue a cuántos amigos quieren saludar, les pregunte los nombres de esos amigos/as, y los salude.\n"
      ]
    },
    {
      "cell_type": "code",
      "execution_count": 25,
      "metadata": {
        "id": "fn7X1ZwI9Uhi",
        "colab": {
          "base_uri": "https://localhost:8080/"
        },
        "outputId": "1fb03b1f-b83f-47ab-d340-6724caef6bf4"
      },
      "outputs": [
        {
          "output_type": "stream",
          "name": "stdout",
          "text": [
            "10\n",
            "11\n",
            "12\n",
            "13\n",
            "14\n",
            "15\n",
            "16\n",
            "17\n",
            "18\n",
            "19\n"
          ]
        }
      ],
      "source": [
        "# 1-\n",
        "for x in range(10,20):\n",
        "  print(x)\n"
      ]
    },
    {
      "cell_type": "code",
      "source": [
        "# 2-\n",
        "mejores_amigas = ['María', 'Celeste', 'Nadia', 'Ayelén', 'Mónica']\n",
        "\n",
        "for amiga in mejores_amigas:\n",
        "  print(F\"Hola {amiga}!, cómo estás?\")\n"
      ],
      "metadata": {
        "colab": {
          "base_uri": "https://localhost:8080/"
        },
        "id": "Ko_eYPJRxp_n",
        "outputId": "5f90c248-e28e-4223-a150-f05f5ab8842c"
      },
      "execution_count": 26,
      "outputs": [
        {
          "output_type": "stream",
          "name": "stdout",
          "text": [
            "Hola María!, cómo estás?\n",
            "Hola Celeste!, cómo estás?\n",
            "Hola Nadia!, cómo estás?\n",
            "Hola Ayelén!, cómo estás?\n",
            "Hola Mónica!, cómo estás?\n"
          ]
        }
      ]
    },
    {
      "cell_type": "code",
      "source": [
        "# 3-\n"
      ],
      "metadata": {
        "id": "TlXRAheTyRbf"
      },
      "execution_count": null,
      "outputs": []
    },
    {
      "cell_type": "code",
      "source": [
        "# 4-\n"
      ],
      "metadata": {
        "id": "hN2iD5d5yTPe"
      },
      "execution_count": null,
      "outputs": []
    },
    {
      "cell_type": "code",
      "execution_count": null,
      "metadata": {
        "id": "SFG1sUoc9Uhj",
        "outputId": "76a257f2-0730-4a42-a7a7-161a45a506c6"
      },
      "outputs": [
        {
          "name": "stdout",
          "output_type": "stream",
          "text": [
            "10\n",
            "20\n",
            "2\n",
            "400\n"
          ]
        }
      ],
      "source": [
        "x=int(input())\n",
        "a=int(input())\n",
        "b=int(input())\n",
        "y=x*a*b\n",
        "print(str(y))"
      ]
    },
    {
      "cell_type": "code",
      "execution_count": null,
      "metadata": {
        "id": "M1Pa73V99Uhj"
      },
      "outputs": [],
      "source": [
        ""
      ]
    },
    {
      "cell_type": "code",
      "execution_count": null,
      "metadata": {
        "id": "pqlCP9qC9Uhk",
        "outputId": "2f6511de-a31f-4478-b6f8-a79459459ce1"
      },
      "outputs": [
        {
          "name": "stdout",
          "output_type": "stream",
          "text": [
            "¿Please, Could you write your name? Ada\n",
            "ADA has 3 letters\n"
          ]
        }
      ],
      "source": [
        "name = input(\"¿Please, Could you write your name? \")\n",
        "print(name.upper() + \" has \" + str(len(name)) + \" letters\")"
      ]
    },
    {
      "cell_type": "code",
      "execution_count": null,
      "metadata": {
        "id": "fjj7LLzd9Uhk"
      },
      "outputs": [],
      "source": [
        ""
      ]
    }
  ],
  "metadata": {
    "kernelspec": {
      "display_name": "Python 3",
      "language": "python",
      "name": "python3"
    },
    "language_info": {
      "codemirror_mode": {
        "name": "ipython",
        "version": 3
      },
      "file_extension": ".py",
      "mimetype": "text/x-python",
      "name": "python",
      "nbconvert_exporter": "python",
      "pygments_lexer": "ipython3",
      "version": "3.7.9"
    },
    "colab": {
      "name": "03Semana3Prog.ipynb",
      "provenance": [],
      "collapsed_sections": [
        "ioUmW8vw9Uhc",
        "JuDnzJrj9Uhd"
      ]
    }
  },
  "nbformat": 4,
  "nbformat_minor": 0
}